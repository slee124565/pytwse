{
 "cells": [
  {
   "cell_type": "code",
   "execution_count": 2,
   "metadata": {
    "collapsed": true
   },
   "outputs": [],
   "source": [
    "import pandas as pd\n",
    "import os\n",
    "import sys\n",
    "sys.path.insert(0, os.path.dirname(os.getcwd()))\n",
    "from cmds.twse import TWSE"
   ]
  },
  {
   "cell_type": "markdown",
   "metadata": {},
   "source": [
    "### pd.read_csv on data_wo_header.csv"
   ]
  },
  {
   "cell_type": "code",
   "execution_count": 17,
   "metadata": {},
   "outputs": [
    {
     "data": {
      "text/html": [
       "<div>\n",
       "<style>\n",
       "    .dataframe thead tr:only-child th {\n",
       "        text-align: right;\n",
       "    }\n",
       "\n",
       "    .dataframe thead th {\n",
       "        text-align: left;\n",
       "    }\n",
       "\n",
       "    .dataframe tbody tr th {\n",
       "        vertical-align: top;\n",
       "    }\n",
       "</style>\n",
       "<table border=\"1\" class=\"dataframe\">\n",
       "  <thead>\n",
       "    <tr style=\"text-align: right;\">\n",
       "      <th></th>\n",
       "      <th>Volume</th>\n",
       "      <th>Value</th>\n",
       "      <th>Open</th>\n",
       "      <th>High</th>\n",
       "      <th>Low</th>\n",
       "      <th>Close</th>\n",
       "      <th>Change</th>\n",
       "      <th>Transaction</th>\n",
       "    </tr>\n",
       "    <tr>\n",
       "      <th>Date</th>\n",
       "      <th></th>\n",
       "      <th></th>\n",
       "      <th></th>\n",
       "      <th></th>\n",
       "      <th></th>\n",
       "      <th></th>\n",
       "      <th></th>\n",
       "      <th></th>\n",
       "    </tr>\n",
       "  </thead>\n",
       "  <tbody>\n",
       "    <tr>\n",
       "      <th>2017-06-01</th>\n",
       "      <td>2,221,692</td>\n",
       "      <td>170,334,430</td>\n",
       "      <td>76.50</td>\n",
       "      <td>76.90</td>\n",
       "      <td>76.50</td>\n",
       "      <td>76.90</td>\n",
       "      <td>0.40</td>\n",
       "      <td>782</td>\n",
       "    </tr>\n",
       "    <tr>\n",
       "      <th>2017-06-02</th>\n",
       "      <td>3,540,934</td>\n",
       "      <td>273,287,776</td>\n",
       "      <td>77.30</td>\n",
       "      <td>77.30</td>\n",
       "      <td>77.05</td>\n",
       "      <td>77.20</td>\n",
       "      <td>0.30</td>\n",
       "      <td>733</td>\n",
       "    </tr>\n",
       "    <tr>\n",
       "      <th>2017-06-03</th>\n",
       "      <td>2,052,295</td>\n",
       "      <td>158,709,516</td>\n",
       "      <td>77.25</td>\n",
       "      <td>77.40</td>\n",
       "      <td>77.25</td>\n",
       "      <td>77.40</td>\n",
       "      <td>0.20</td>\n",
       "      <td>541</td>\n",
       "    </tr>\n",
       "    <tr>\n",
       "      <th>2017-06-05</th>\n",
       "      <td>3,281,752</td>\n",
       "      <td>254,540,406</td>\n",
       "      <td>77.35</td>\n",
       "      <td>78.00</td>\n",
       "      <td>77.25</td>\n",
       "      <td>78.00</td>\n",
       "      <td>0.60</td>\n",
       "      <td>849</td>\n",
       "    </tr>\n",
       "    <tr>\n",
       "      <th>2017-06-06</th>\n",
       "      <td>1,203,007</td>\n",
       "      <td>93,684,346</td>\n",
       "      <td>77.95</td>\n",
       "      <td>77.95</td>\n",
       "      <td>77.70</td>\n",
       "      <td>77.95</td>\n",
       "      <td>-0.05</td>\n",
       "      <td>618</td>\n",
       "    </tr>\n",
       "  </tbody>\n",
       "</table>\n",
       "</div>"
      ],
      "text/plain": [
       "               Volume        Value   Open   High    Low  Close  Change  \\\n",
       "Date                                                                     \n",
       "2017-06-01  2,221,692  170,334,430  76.50  76.90  76.50  76.90    0.40   \n",
       "2017-06-02  3,540,934  273,287,776  77.30  77.30  77.05  77.20    0.30   \n",
       "2017-06-03  2,052,295  158,709,516  77.25  77.40  77.25  77.40    0.20   \n",
       "2017-06-05  3,281,752  254,540,406  77.35  78.00  77.25  78.00    0.60   \n",
       "2017-06-06  1,203,007   93,684,346  77.95  77.95  77.70  77.95   -0.05   \n",
       "\n",
       "           Transaction  \n",
       "Date                    \n",
       "2017-06-01         782  \n",
       "2017-06-02         733  \n",
       "2017-06-03         541  \n",
       "2017-06-05         849  \n",
       "2017-06-06         618  "
      ]
     },
     "execution_count": 17,
     "metadata": {},
     "output_type": "execute_result"
    }
   ],
   "source": [
    "df = pd.read_csv('data_wo_header.csv', names=TWSE.DATA_FIELDS, index_col=TWSE.DATA_FIELDS[0:1], parse_dates=TWSE.DATA_FIELDS[0:1])\n",
    "df.head()"
   ]
  },
  {
   "cell_type": "markdown",
   "metadata": {},
   "source": [
    "### pd.to_csv from data_w_header.csv to copy.csv"
   ]
  },
  {
   "cell_type": "code",
   "execution_count": 18,
   "metadata": {},
   "outputs": [
    {
     "name": "stdout",
     "output_type": "stream",
     "text": [
      "Date,Volume,Value,Open,High,Low,Close,Change,Transaction\n",
      "\n",
      "2017-06-01,\"2,221,692\",\"170,334,430\",76.5,76.9,76.5,76.9,0.4,782\n",
      "\n",
      "2017-06-02,\"3,540,934\",\"273,287,776\",77.3,77.3,77.05,77.2,0.3,733\n",
      "\n"
     ]
    }
   ],
   "source": [
    "df = pd.read_csv('data_w_header.csv', index_col=['Date'], parse_dates=['Date'])\n",
    "df.to_csv('copy.csv')\n",
    "with open('copy.csv') as fh:\n",
    "    print(fh.readline())\n",
    "    print(fh.readline())\n",
    "    print(fh.readline())"
   ]
  },
  {
   "cell_type": "markdown",
   "metadata": {},
   "source": [
    "### df.Index.duplicated on data_w_duplicated.csv"
   ]
  },
  {
   "cell_type": "code",
   "execution_count": 17,
   "metadata": {},
   "outputs": [
    {
     "name": "stdout",
     "output_type": "stream",
     "text": [
      "(<type 'numpy.ndarray'>, array([False, False, False, False, False, False, False, False, False,\n",
      "       False, False, False, False, False, False, False, False, False,\n",
      "       False, False, False, False, False, False, False, False, False,\n",
      "       False, False, False, False, False, False, False, False, False,\n",
      "       False, False, False, False, False, False, False, False, False,\n",
      "       False, False, False, False, False, False, False, False, False,\n",
      "       False, False, False, False, False, False, False, False, False,\n",
      "       False, False, False, False, False, False, False, False,  True,\n",
      "       False,  True,  True,  True, False,  True,  True,  True,  True,\n",
      "        True,  True,  True,  True, False,  True,  True,  True,  True,\n",
      "        True,  True,  True,  True,  True,  True,  True,  True,  True,\n",
      "        True,  True], dtype=bool))\n"
     ]
    }
   ],
   "source": [
    "df = pd.read_csv('data_w_duplicated.csv', names=TWSE.DATA_FIELDS, index_col=TWSE.DATA_FIELDS[0:1], parse_dates=TWSE.DATA_FIELDS[0:1])\n",
    "index_duplicated = df.index.duplicated()\n",
    "print(type(index_duplicated), index_duplicated)"
   ]
  },
  {
   "cell_type": "markdown",
   "metadata": {},
   "source": [
    "### drop duplicated on data_w_duplicated.csv and save as data_drop_duplicated.csv"
   ]
  },
  {
   "cell_type": "code",
   "execution_count": 21,
   "metadata": {},
   "outputs": [
    {
     "data": {
      "text/plain": [
       "array([False, False, False, False, False, False, False, False, False,\n",
       "       False, False, False, False, False, False, False, False, False,\n",
       "       False, False, False, False, False, False, False, False, False,\n",
       "       False, False, False, False, False, False, False, False, False,\n",
       "       False, False, False, False, False, False, False, False, False,\n",
       "       False, False, False, False, False, False, False, False, False,\n",
       "       False, False, False, False, False, False, False, False, False,\n",
       "       False, False, False, False, False, False, False, False, False, False], dtype=bool)"
      ]
     },
     "execution_count": 21,
     "metadata": {},
     "output_type": "execute_result"
    }
   ],
   "source": [
    "df = pd.read_csv('data_w_duplicated.csv', index_col=['Date'], parse_dates=['Date'])\n",
    "df_drop = df.reset_index().drop_duplicates('Date', keep='last').set_index('Date')\n",
    "df_drop.to_csv('data_drop_duplicated.csv')\n",
    "\n",
    "df_check = pd.read_csv('data_drop_duplicated.csv', index_col=['Date'], parse_dates=['Date'])\n",
    "df_check.index.duplicated()"
   ]
  },
  {
   "cell_type": "markdown",
   "metadata": {},
   "source": [
    "### sort dataframe"
   ]
  },
  {
   "cell_type": "code",
   "execution_count": null,
   "metadata": {
    "collapsed": true
   },
   "outputs": [],
   "source": []
  },
  {
   "cell_type": "markdown",
   "metadata": {},
   "source": [
    "### Get Stock DataFrame [date_since, date_last, row_count]"
   ]
  },
  {
   "cell_type": "code",
   "execution_count": null,
   "metadata": {
    "collapsed": true
   },
   "outputs": [],
   "source": [
    "df = pd.read_csv('data_drop_duplicated.csv', index_col=['Date'], parse_dates=['Date'])\n"
   ]
  }
 ],
 "metadata": {
  "kernelspec": {
   "display_name": "Python 2",
   "language": "python",
   "name": "python2"
  },
  "language_info": {
   "codemirror_mode": {
    "name": "ipython",
    "version": 2
   },
   "file_extension": ".py",
   "mimetype": "text/x-python",
   "name": "python",
   "nbconvert_exporter": "python",
   "pygments_lexer": "ipython2",
   "version": "2.7.12"
  }
 },
 "nbformat": 4,
 "nbformat_minor": 2
}
