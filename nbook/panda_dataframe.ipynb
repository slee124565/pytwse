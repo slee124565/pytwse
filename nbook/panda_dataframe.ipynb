{
 "cells": [
  {
   "cell_type": "code",
   "execution_count": 10,
   "metadata": {
    "collapsed": true
   },
   "outputs": [],
   "source": [
    "import pandas as pd"
   ]
  },
  {
   "cell_type": "code",
   "execution_count": 3,
   "metadata": {},
   "outputs": [],
   "source": [
    "import os\n",
    "import sys"
   ]
  },
  {
   "cell_type": "code",
   "execution_count": 7,
   "metadata": {},
   "outputs": [],
   "source": [
    "sys.path.insert(0, os.path.dirname(os.getcwd()))\n",
    "from cmds.twse import TWSE"
   ]
  },
  {
   "cell_type": "markdown",
   "metadata": {},
   "source": [
    "### pd.read_csv on data_wo_header.csv"
   ]
  },
  {
   "cell_type": "code",
   "execution_count": 17,
   "metadata": {},
   "outputs": [
    {
     "data": {
      "text/html": [
       "<div>\n",
       "<style>\n",
       "    .dataframe thead tr:only-child th {\n",
       "        text-align: right;\n",
       "    }\n",
       "\n",
       "    .dataframe thead th {\n",
       "        text-align: left;\n",
       "    }\n",
       "\n",
       "    .dataframe tbody tr th {\n",
       "        vertical-align: top;\n",
       "    }\n",
       "</style>\n",
       "<table border=\"1\" class=\"dataframe\">\n",
       "  <thead>\n",
       "    <tr style=\"text-align: right;\">\n",
       "      <th></th>\n",
       "      <th>Volume</th>\n",
       "      <th>Value</th>\n",
       "      <th>Open</th>\n",
       "      <th>High</th>\n",
       "      <th>Low</th>\n",
       "      <th>Close</th>\n",
       "      <th>Change</th>\n",
       "      <th>Transaction</th>\n",
       "    </tr>\n",
       "    <tr>\n",
       "      <th>Date</th>\n",
       "      <th></th>\n",
       "      <th></th>\n",
       "      <th></th>\n",
       "      <th></th>\n",
       "      <th></th>\n",
       "      <th></th>\n",
       "      <th></th>\n",
       "      <th></th>\n",
       "    </tr>\n",
       "  </thead>\n",
       "  <tbody>\n",
       "    <tr>\n",
       "      <th>2017-06-01</th>\n",
       "      <td>2,221,692</td>\n",
       "      <td>170,334,430</td>\n",
       "      <td>76.50</td>\n",
       "      <td>76.90</td>\n",
       "      <td>76.50</td>\n",
       "      <td>76.90</td>\n",
       "      <td>0.40</td>\n",
       "      <td>782</td>\n",
       "    </tr>\n",
       "    <tr>\n",
       "      <th>2017-06-02</th>\n",
       "      <td>3,540,934</td>\n",
       "      <td>273,287,776</td>\n",
       "      <td>77.30</td>\n",
       "      <td>77.30</td>\n",
       "      <td>77.05</td>\n",
       "      <td>77.20</td>\n",
       "      <td>0.30</td>\n",
       "      <td>733</td>\n",
       "    </tr>\n",
       "    <tr>\n",
       "      <th>2017-06-03</th>\n",
       "      <td>2,052,295</td>\n",
       "      <td>158,709,516</td>\n",
       "      <td>77.25</td>\n",
       "      <td>77.40</td>\n",
       "      <td>77.25</td>\n",
       "      <td>77.40</td>\n",
       "      <td>0.20</td>\n",
       "      <td>541</td>\n",
       "    </tr>\n",
       "    <tr>\n",
       "      <th>2017-06-05</th>\n",
       "      <td>3,281,752</td>\n",
       "      <td>254,540,406</td>\n",
       "      <td>77.35</td>\n",
       "      <td>78.00</td>\n",
       "      <td>77.25</td>\n",
       "      <td>78.00</td>\n",
       "      <td>0.60</td>\n",
       "      <td>849</td>\n",
       "    </tr>\n",
       "    <tr>\n",
       "      <th>2017-06-06</th>\n",
       "      <td>1,203,007</td>\n",
       "      <td>93,684,346</td>\n",
       "      <td>77.95</td>\n",
       "      <td>77.95</td>\n",
       "      <td>77.70</td>\n",
       "      <td>77.95</td>\n",
       "      <td>-0.05</td>\n",
       "      <td>618</td>\n",
       "    </tr>\n",
       "  </tbody>\n",
       "</table>\n",
       "</div>"
      ],
      "text/plain": [
       "               Volume        Value   Open   High    Low  Close  Change  \\\n",
       "Date                                                                     \n",
       "2017-06-01  2,221,692  170,334,430  76.50  76.90  76.50  76.90    0.40   \n",
       "2017-06-02  3,540,934  273,287,776  77.30  77.30  77.05  77.20    0.30   \n",
       "2017-06-03  2,052,295  158,709,516  77.25  77.40  77.25  77.40    0.20   \n",
       "2017-06-05  3,281,752  254,540,406  77.35  78.00  77.25  78.00    0.60   \n",
       "2017-06-06  1,203,007   93,684,346  77.95  77.95  77.70  77.95   -0.05   \n",
       "\n",
       "           Transaction  \n",
       "Date                    \n",
       "2017-06-01         782  \n",
       "2017-06-02         733  \n",
       "2017-06-03         541  \n",
       "2017-06-05         849  \n",
       "2017-06-06         618  "
      ]
     },
     "execution_count": 17,
     "metadata": {},
     "output_type": "execute_result"
    }
   ],
   "source": [
    "df = pd.read_csv('data_wo_header.csv', names=TWSE.DATA_FIELDS, index_col=TWSE.DATA_FIELDS[0:1], parse_dates=TWSE.DATA_FIELDS[0:1])\n",
    "df.head()"
   ]
  },
  {
   "cell_type": "markdown",
   "metadata": {},
   "source": [
    "### pd.to_csv from data_w_header.csv to copy.csv"
   ]
  },
  {
   "cell_type": "code",
   "execution_count": 18,
   "metadata": {},
   "outputs": [
    {
     "name": "stdout",
     "output_type": "stream",
     "text": [
      "Date,Volume,Value,Open,High,Low,Close,Change,Transaction\n",
      "\n",
      "2017-06-01,\"2,221,692\",\"170,334,430\",76.5,76.9,76.5,76.9,0.4,782\n",
      "\n",
      "2017-06-02,\"3,540,934\",\"273,287,776\",77.3,77.3,77.05,77.2,0.3,733\n",
      "\n"
     ]
    }
   ],
   "source": [
    "df = pd.read_csv('data_w_header.csv', index_col=['Date'], parse_dates=['Date'])\n",
    "df.to_csv('copy.csv')\n",
    "with open('copy.csv') as fh:\n",
    "    print(fh.readline())\n",
    "    print(fh.readline())\n",
    "    print(fh.readline())"
   ]
  },
  {
   "cell_type": "markdown",
   "metadata": {},
   "source": [
    "### df.Index.duplicated on data_w_duplicated.csv"
   ]
  },
  {
   "cell_type": "code",
   "execution_count": 19,
   "metadata": {},
   "outputs": [
    {
     "data": {
      "text/plain": [
       "array([False, False, False, False, False, False, False, False, False,\n",
       "       False, False, False, False, False, False, False, False, False,\n",
       "       False, False, False,  True, False,  True, False,  True, False], dtype=bool)"
      ]
     },
     "execution_count": 19,
     "metadata": {},
     "output_type": "execute_result"
    }
   ],
   "source": [
    "df = pd.read_csv('data_w_duplicated.csv', names=TWSE.DATA_FIELDS, index_col=TWSE.DATA_FIELDS[0:1], parse_dates=TWSE.DATA_FIELDS[0:1])\n",
    "df.index.duplicated()"
   ]
  },
  {
   "cell_type": "markdown",
   "metadata": {},
   "source": [
    "### df.drop_duplicates on data_w_duplicated.csv and save as data_drop_duplicated.csv"
   ]
  },
  {
   "cell_type": "code",
   "execution_count": 28,
   "metadata": {},
   "outputs": [
    {
     "name": "stdout",
     "output_type": "stream",
     "text": [
      "                Volume          Value   Open   High    Low  Close Change  \\\n",
      "Date                                                                       \n",
      "2017-06-26  14,254,481  1,152,368,187  79.80  81.50  79.80  81.40  +1.70   \n",
      "2017-06-27   3,026,202    245,706,817  81.40  81.50  81.00  81.30  -0.10   \n",
      "2017-06-27   3,026,202    245,706,817  81.40  81.50  81.00  81.30  -0.10   \n",
      "2017-06-28   6,286,912    506,227,717  80.90  81.05  80.30  80.55  -0.75   \n",
      "2017-06-28   6,286,912    506,227,717  80.90  81.05  80.30  80.55  -0.75   \n",
      "2017-06-29   1,427,255    115,380,165  81.00  81.05  80.50  80.65  +0.10   \n",
      "2017-06-29   1,427,255    115,380,165  81.00  81.05  80.50  80.65  +0.10   \n",
      "2017-06-30   3,070,653    245,991,027  80.10  80.40  79.80  80.40  -0.25   \n",
      "\n",
      "           Transaction  \n",
      "Date                    \n",
      "2017-06-26       2,367  \n",
      "2017-06-27       1,145  \n",
      "2017-06-27       1,145  \n",
      "2017-06-28       2,321  \n",
      "2017-06-28       2,321  \n",
      "2017-06-29         513  \n",
      "2017-06-29         513  \n",
      "2017-06-30         854  \n"
     ]
    },
    {
     "data": {
      "text/html": [
       "<div>\n",
       "<style>\n",
       "    .dataframe thead tr:only-child th {\n",
       "        text-align: right;\n",
       "    }\n",
       "\n",
       "    .dataframe thead th {\n",
       "        text-align: left;\n",
       "    }\n",
       "\n",
       "    .dataframe tbody tr th {\n",
       "        vertical-align: top;\n",
       "    }\n",
       "</style>\n",
       "<table border=\"1\" class=\"dataframe\">\n",
       "  <thead>\n",
       "    <tr style=\"text-align: right;\">\n",
       "      <th></th>\n",
       "      <th>Volume</th>\n",
       "      <th>Value</th>\n",
       "      <th>Open</th>\n",
       "      <th>High</th>\n",
       "      <th>Low</th>\n",
       "      <th>Close</th>\n",
       "      <th>Change</th>\n",
       "      <th>Transaction</th>\n",
       "    </tr>\n",
       "    <tr>\n",
       "      <th>Date</th>\n",
       "      <th></th>\n",
       "      <th></th>\n",
       "      <th></th>\n",
       "      <th></th>\n",
       "      <th></th>\n",
       "      <th></th>\n",
       "      <th></th>\n",
       "      <th></th>\n",
       "    </tr>\n",
       "  </thead>\n",
       "  <tbody>\n",
       "    <tr>\n",
       "      <th>2017-06-26</th>\n",
       "      <td>14,254,481</td>\n",
       "      <td>1,152,368,187</td>\n",
       "      <td>79.80</td>\n",
       "      <td>81.50</td>\n",
       "      <td>79.80</td>\n",
       "      <td>81.40</td>\n",
       "      <td>+1.70</td>\n",
       "      <td>2,367</td>\n",
       "    </tr>\n",
       "    <tr>\n",
       "      <th>2017-06-27</th>\n",
       "      <td>3,026,202</td>\n",
       "      <td>245,706,817</td>\n",
       "      <td>81.40</td>\n",
       "      <td>81.50</td>\n",
       "      <td>81.00</td>\n",
       "      <td>81.30</td>\n",
       "      <td>-0.10</td>\n",
       "      <td>1,145</td>\n",
       "    </tr>\n",
       "    <tr>\n",
       "      <th>2017-06-28</th>\n",
       "      <td>6,286,912</td>\n",
       "      <td>506,227,717</td>\n",
       "      <td>80.90</td>\n",
       "      <td>81.05</td>\n",
       "      <td>80.30</td>\n",
       "      <td>80.55</td>\n",
       "      <td>-0.75</td>\n",
       "      <td>2,321</td>\n",
       "    </tr>\n",
       "    <tr>\n",
       "      <th>2017-06-29</th>\n",
       "      <td>1,427,255</td>\n",
       "      <td>115,380,165</td>\n",
       "      <td>81.00</td>\n",
       "      <td>81.05</td>\n",
       "      <td>80.50</td>\n",
       "      <td>80.65</td>\n",
       "      <td>+0.10</td>\n",
       "      <td>513</td>\n",
       "    </tr>\n",
       "    <tr>\n",
       "      <th>2017-06-30</th>\n",
       "      <td>3,070,653</td>\n",
       "      <td>245,991,027</td>\n",
       "      <td>80.10</td>\n",
       "      <td>80.40</td>\n",
       "      <td>79.80</td>\n",
       "      <td>80.40</td>\n",
       "      <td>-0.25</td>\n",
       "      <td>854</td>\n",
       "    </tr>\n",
       "  </tbody>\n",
       "</table>\n",
       "</div>"
      ],
      "text/plain": [
       "                Volume          Value   Open   High    Low  Close Change  \\\n",
       "Date                                                                       \n",
       "2017-06-26  14,254,481  1,152,368,187  79.80  81.50  79.80  81.40  +1.70   \n",
       "2017-06-27   3,026,202    245,706,817  81.40  81.50  81.00  81.30  -0.10   \n",
       "2017-06-28   6,286,912    506,227,717  80.90  81.05  80.30  80.55  -0.75   \n",
       "2017-06-29   1,427,255    115,380,165  81.00  81.05  80.50  80.65  +0.10   \n",
       "2017-06-30   3,070,653    245,991,027  80.10  80.40  79.80  80.40  -0.25   \n",
       "\n",
       "           Transaction  \n",
       "Date                    \n",
       "2017-06-26       2,367  \n",
       "2017-06-27       1,145  \n",
       "2017-06-28       2,321  \n",
       "2017-06-29         513  \n",
       "2017-06-30         854  "
      ]
     },
     "execution_count": 28,
     "metadata": {},
     "output_type": "execute_result"
    }
   ],
   "source": [
    "df = pd.read_csv('data_w_duplicated.csv', names=TWSE.DATA_FIELDS, index_col=TWSE.DATA_FIELDS[0:1], parse_dates=TWSE.DATA_FIELDS[0:1])\n",
    "print(df.tail(8))\n",
    "df.drop_duplicates(keep='last', inplace=True)\n",
    "df.to_csv('data_drop_duplicated.csv')\n",
    "check = pd.read_csv('data_drop_duplicated.csv', index_col=['Date'], parse_dates=['Date'])\n",
    "check.tail(5)"
   ]
  }
 ],
 "metadata": {
  "kernelspec": {
   "display_name": "Python 2",
   "language": "python",
   "name": "python2"
  },
  "language_info": {
   "codemirror_mode": {
    "name": "ipython",
    "version": 2
   },
   "file_extension": ".py",
   "mimetype": "text/x-python",
   "name": "python",
   "nbconvert_exporter": "python",
   "pygments_lexer": "ipython2",
   "version": "2.7.12"
  }
 },
 "nbformat": 4,
 "nbformat_minor": 2
}
